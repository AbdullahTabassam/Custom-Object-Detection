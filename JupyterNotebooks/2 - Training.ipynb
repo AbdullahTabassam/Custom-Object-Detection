{
 "cells": [
  {
   "cell_type": "markdown",
   "metadata": {},
   "source": [
    "# 2 - Training"
   ]
  },
  {
   "cell_type": "markdown",
   "metadata": {},
   "source": [
    "Before doing anything let us just create paths to aur folders so our work remains manageable and understandable. "
   ]
  },
  {
   "cell_type": "code",
   "execution_count": null,
   "metadata": {},
   "outputs": [],
   "source": [
    "PATH_TO_IMAGES_FOLDER='images'\n",
    "PATH_TO_ANNOTATIONS_FOLDER='annotations'"
   ]
  },
  {
   "cell_type": "markdown",
   "metadata": {},
   "source": [
    "## Clean XML files"
   ]
  },
  {
   "cell_type": "markdown",
   "metadata": {},
   "source": [
    "The command bellow will run the xmlconversion.py script. This script creates a new directory called cleaned inside images directory which contains cleaned XML files (remves all un-necessary spaces).\n",
    "(Only need to run this command if using any labeling module other than the recommended ('labelimg'))"
   ]
  },
  {
   "cell_type": "raw",
   "metadata": {},
   "source": [
    "!python xmlconversion.py --verbose"
   ]
  },
  {
   "cell_type": "markdown",
   "metadata": {},
   "source": [
    "## Train-Test Partition"
   ]
  },
  {
   "cell_type": "markdown",
   "metadata": {},
   "source": [
    "To keep the model from being biased, we need to evaluate it on unseen data. For this purpose we will divide the dataset into two parts, train and test. The training partition will be used to train the model, and the test partition, being unseen to the model, will be used to evaluate the model performance. The below line will run partition_dataset.py file which will select a percentage (10% in this case) of images and corresponding xmls, in random order, from the images folder and create a new subfolder named test with these images coppied in it. The remaining images will be coppied to a subfolder called train."
   ]
  },
  {
   "cell_type": "code",
   "execution_count": null,
   "metadata": {},
   "outputs": [],
   "source": [
    "!python partition_dataset.py -x -i ./{PATH_TO_IMAGES_FOLDER} -r 0.1"
   ]
  },
  {
   "cell_type": "markdown",
   "metadata": {},
   "source": [
    "## Create the TF Record"
   ]
  },
  {
   "cell_type": "markdown",
   "metadata": {},
   "source": [
    "Object Detection API rquires the images to be stored in the binary form in a TFRecords file which makes the training faster and easier for the machine as it takes less memory."
   ]
  },
  {
   "cell_type": "markdown",
   "metadata": {},
   "source": [
    "### Create the .PBTXT file"
   ]
  },
  {
   "cell_type": "markdown",
   "metadata": {},
   "source": [
    "As Object Detection API requires us to assign numeric labels to each object to be detected, we need to create a PBTX file that contains these labels for the four birds species, namely, Erithacus Rubecula, Periparus Ater, Pica Pica, and Turdus Merula. The cell below, when run, creates a numeric 'id' for each bird 'name'."
   ]
  },
  {
   "cell_type": "code",
   "execution_count": null,
   "metadata": {},
   "outputs": [],
   "source": [
    "labels = [{'name':'Erithacus_Rubecula', 'id':1}, {'name':'Periparus_ater', 'id':2},\n",
    "         {'name':'Pica_pica', 'id':3}, {'name':'Turdus_merula', 'id':4}]\n",
    "\n",
    "with open('annotations/label_map.pbtxt', 'w') as f:\n",
    "    for label in labels:\n",
    "        f.write('item { \\n')\n",
    "        f.write('\\tname:\\'{}\\'\\n'.format(label['name']))\n",
    "        f.write('\\tid:{}\\n'.format(label['id']))\n",
    "        f.write('}\\n')"
   ]
  },
  {
   "cell_type": "code",
   "execution_count": null,
   "metadata": {},
   "outputs": [],
   "source": [
    "# Verify the created PBTX file by opening it in VS Code\n",
    "!code {PATH_TO_ANNOTATIONS_FOLDER}'/label_map.pbtxt'"
   ]
  },
  {
   "cell_type": "markdown",
   "metadata": {},
   "source": [
    "### Create the TF Record (Train)"
   ]
  },
  {
   "cell_type": "code",
   "execution_count": null,
   "metadata": {},
   "outputs": [
    {
     "name": "stdout",
     "output_type": "stream",
     "text": [
      "Successfully created the TFRecord file: annotations/train.record\r\n"
     ]
    }
   ],
   "source": [
    "!python generate_tfrecord.py -x {PATH_TO_IMAGES_FOLDER}/train -l {PATH_TO_ANNOTATIONS_FOLDER}/label_map.pbtxt -o {PATH_TO_ANNOTATIONS_FOLDER}/train.record"
   ]
  },
  {
   "cell_type": "markdown",
   "metadata": {},
   "source": [
    "### Create the TF Record (Test)"
   ]
  },
  {
   "cell_type": "code",
   "execution_count": null,
   "metadata": {},
   "outputs": [
    {
     "name": "stdout",
     "output_type": "stream",
     "text": [
      "Successfully created the TFRecord file: annotations/test.record\r\n"
     ]
    }
   ],
   "source": [
    "!python generate_tfrecord.py -x {PATH_TO_IMAGES_FOLDER}/test -l {PATH_TO_ANNOTATIONS_FOLDER}/label_map.pbtxt -o {PATH_TO_ANNOTATIONS_FOLDER}/test.record"
   ]
  }
 ],
 "metadata": {
  "language_info": {
   "name": "python"
  },
  "orig_nbformat": 4
 },
 "nbformat": 4,
 "nbformat_minor": 2
}
